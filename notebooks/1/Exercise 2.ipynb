{
 "cells": [
  {
   "cell_type": "markdown",
   "metadata": {
    "colab_type": "text",
    "id": "pzL3yIiBU4XQ"
   },
   "source": [
    "# Linear regression \n",
    "\n",
    "In this exercise you will use linear regression to predict flat prices. One more time, training will be handled via gradient descent. Although, contratry to the first exercise, we will now:\n",
    "* have multiple features (i.e. variables used to make the prediction),\n",
    "* employ some basic feature engineering,\n",
    "* work with a different loss function.\n",
    "\n",
    "Let's start with getting the data."
   ]
  },
  {
   "cell_type": "code",
   "execution_count": 2,
   "metadata": {
    "colab": {
     "base_uri": "https://localhost:8080/",
     "height": 717
    },
    "colab_type": "code",
    "executionInfo": {
     "elapsed": 5690,
     "status": "ok",
     "timestamp": 1551430067568,
     "user": {
      "displayName": "Timur Hadeliya",
      "photoUrl": "https://lh5.googleusercontent.com/-Nhb23zVZRNY/AAAAAAAAAAI/AAAAAAAAHpk/RJ3s-jxCCk0/s64/photo.jpg",
      "userId": "13979945916369297878"
     },
     "user_tz": -60
    },
    "id": "ZEjBjAlhU4XS",
    "outputId": "295c7a2d-85c8-4e89-d82f-68148fd7f528"
   },
   "outputs": [
    {
     "name": "stdout",
     "output_type": "stream",
     "text": [
      "--2019-03-07 23:22:28--  https://www.dropbox.com/s/zey0gx91pna8irj/mieszkania.csv?dl=1\n",
      "Resolving www.dropbox.com (www.dropbox.com)... 162.125.70.1, 2620:100:6026:1::a27d:4601\n",
      "Connecting to www.dropbox.com (www.dropbox.com)|162.125.70.1|:443... connected.\n",
      "HTTP request sent, awaiting response... 301 Moved Permanently\n",
      "Location: /s/dl/zey0gx91pna8irj/mieszkania.csv [following]\n",
      "--2019-03-07 23:22:28--  https://www.dropbox.com/s/dl/zey0gx91pna8irj/mieszkania.csv\n",
      "Reusing existing connection to www.dropbox.com:443.\n",
      "HTTP request sent, awaiting response... 302 Found\n",
      "Location: https://uc4f96bcc5c21664d9c36a24aa24.dl.dropboxusercontent.com/cd/0/get/Acq-RQm-99GDaPaFaGrvPq__uodUE6oeX6e8b4-KYLHrsjGSWboqsmqW091TLSZcXy5FNzYrn9tOrRkTNf834vmjI1xOyf7hB1aht6HBFpdU_w/file?dl=1# [following]\n",
      "--2019-03-07 23:22:28--  https://uc4f96bcc5c21664d9c36a24aa24.dl.dropboxusercontent.com/cd/0/get/Acq-RQm-99GDaPaFaGrvPq__uodUE6oeX6e8b4-KYLHrsjGSWboqsmqW091TLSZcXy5FNzYrn9tOrRkTNf834vmjI1xOyf7hB1aht6HBFpdU_w/file?dl=1\n",
      "Resolving uc4f96bcc5c21664d9c36a24aa24.dl.dropboxusercontent.com (uc4f96bcc5c21664d9c36a24aa24.dl.dropboxusercontent.com)... 162.125.70.6, 2620:100:6026:6::a27d:4606\n",
      "Connecting to uc4f96bcc5c21664d9c36a24aa24.dl.dropboxusercontent.com (uc4f96bcc5c21664d9c36a24aa24.dl.dropboxusercontent.com)|162.125.70.6|:443... connected.\n",
      "HTTP request sent, awaiting response... 200 OK\n",
      "Length: 6211 (6,1K) [application/binary]\n",
      "Saving to: ‘mieszkania.csv’\n",
      "\n",
      "mieszkania.csv      100%[===================>]   6,07K  --.-KB/s    in 0s      \n",
      "\n",
      "2019-03-07 23:22:29 (392 MB/s) - ‘mieszkania.csv’ saved [6211/6211]\n",
      "\n",
      "--2019-03-07 23:22:29--  https://www.dropbox.com/s/dbrj6sbxb4ayqjz/mieszkania_test.csv?dl=1\n",
      "Resolving www.dropbox.com (www.dropbox.com)... 162.125.70.1, 2620:100:6026:1::a27d:4601\n",
      "Connecting to www.dropbox.com (www.dropbox.com)|162.125.70.1|:443... connected.\n",
      "HTTP request sent, awaiting response... 301 Moved Permanently\n",
      "Location: /s/dl/dbrj6sbxb4ayqjz/mieszkania_test.csv [following]\n",
      "--2019-03-07 23:22:29--  https://www.dropbox.com/s/dl/dbrj6sbxb4ayqjz/mieszkania_test.csv\n",
      "Reusing existing connection to www.dropbox.com:443.\n",
      "HTTP request sent, awaiting response... 302 Found\n",
      "Location: https://uc46014b9a718a4d1a44e9a5582c.dl.dropboxusercontent.com/cd/0/get/Acp1nflNeTIZfZAj4P27TI-mfaulz10_-MxXB1oELw6r0yNJhZaJklYrEYNo4TvTn0jR4zhEaqGgb_MWmM74YQaGVdRginZU--OmLSBFeT1iWw/file?dl=1# [following]\n",
      "--2019-03-07 23:22:30--  https://uc46014b9a718a4d1a44e9a5582c.dl.dropboxusercontent.com/cd/0/get/Acp1nflNeTIZfZAj4P27TI-mfaulz10_-MxXB1oELw6r0yNJhZaJklYrEYNo4TvTn0jR4zhEaqGgb_MWmM74YQaGVdRginZU--OmLSBFeT1iWw/file?dl=1\n",
      "Resolving uc46014b9a718a4d1a44e9a5582c.dl.dropboxusercontent.com (uc46014b9a718a4d1a44e9a5582c.dl.dropboxusercontent.com)... 162.125.70.6, 2620:100:6026:6::a27d:4606\n",
      "Connecting to uc46014b9a718a4d1a44e9a5582c.dl.dropboxusercontent.com (uc46014b9a718a4d1a44e9a5582c.dl.dropboxusercontent.com)|162.125.70.6|:443... connected.\n",
      "HTTP request sent, awaiting response... 200 OK\n",
      "Length: 6247 (6,1K) [application/binary]\n",
      "Saving to: ‘mieszkania_test.csv’\n",
      "\n",
      "mieszkania_test.csv 100%[===================>]   6,10K  --.-KB/s    in 0s      \n",
      "\n",
      "2019-03-07 23:22:30 (358 MB/s) - ‘mieszkania_test.csv’ saved [6247/6247]\n",
      "\n"
     ]
    }
   ],
   "source": [
    "%matplotlib inline\n",
    "\n",
    "!wget -O mieszkania.csv https://www.dropbox.com/s/zey0gx91pna8irj/mieszkania.csv?dl=1\n",
    "!wget -O mieszkania_test.csv https://www.dropbox.com/s/dbrj6sbxb4ayqjz/mieszkania_test.csv?dl=1"
   ]
  },
  {
   "cell_type": "code",
   "execution_count": 3,
   "metadata": {
    "colab": {
     "base_uri": "https://localhost:8080/",
     "height": 408
    },
    "colab_type": "code",
    "executionInfo": {
     "elapsed": 2192,
     "status": "ok",
     "timestamp": 1551430073100,
     "user": {
      "displayName": "Timur Hadeliya",
      "photoUrl": "https://lh5.googleusercontent.com/-Nhb23zVZRNY/AAAAAAAAAAI/AAAAAAAAHpk/RJ3s-jxCCk0/s64/photo.jpg",
      "userId": "13979945916369297878"
     },
     "user_tz": -60
    },
    "id": "I9t5aETcU4XX",
    "outputId": "e0754895-a936-45cf-d57f-1e3a2345f211"
   },
   "outputs": [
    {
     "name": "stdout",
     "output_type": "stream",
     "text": [
      "==> mieszkania.csv <==\n",
      "m2,dzielnica,ilość_sypialni,ilość_łazienek,rok_budowy,parking_podziemny,cena\n",
      "104,mokotowo,2,2,1940,1,780094\n",
      "43,ochotowo,1,1,1970,1,346912\n",
      "128,grodziskowo,3,2,1916,1,523466\n",
      "112,mokotowo,3,2,1920,1,830965\n",
      "149,mokotowo,3,3,1977,0,1090479\n",
      "80,ochotowo,2,2,1937,0,599060\n",
      "58,ochotowo,2,1,1922,0,463639\n",
      "23,ochotowo,1,1,1929,0,166785\n",
      "40,mokotowo,1,1,1973,0,318849\n",
      "\n",
      "==> mieszkania_test.csv <==\n",
      "m2,dzielnica,ilość_sypialni,ilość_łazienek,rok_budowy,parking_podziemny,cena\n",
      "71,wolowo,2,2,1912,1,322227\n",
      "45,mokotowo,1,1,1938,0,295878\n",
      "38,mokotowo,1,1,1999,1,306530\n",
      "70,ochotowo,2,2,1980,1,553641\n",
      "136,mokotowo,3,2,1939,1,985348\n",
      "128,wolowo,3,2,1983,1,695726\n",
      "23,grodziskowo,1,1,1975,0,99751\n",
      "117,mokotowo,3,2,1942,0,891261\n",
      "65,ochotowo,2,1,2002,1,536499\n"
     ]
    }
   ],
   "source": [
    "!head mieszkania.csv mieszkania_test.csv"
   ]
  },
  {
   "cell_type": "markdown",
   "metadata": {
    "colab_type": "text",
    "id": "TDwRtEJFXKm2"
   },
   "source": [
    "**NOTES**\n",
    "\n",
    "**Można dzielnicę zastąpić przez średnią innych dzielnic**\n",
    "\n",
    "**twierdzenie o tym że многочлен степени н можно пустить идеально через n+1 точку**\n",
    "\n",
    "**Średnia minimizuje błąd kwadratowy;Błąd logarytmiczny minimizuje mediana(?)**"
   ]
  },
  {
   "cell_type": "markdown",
   "metadata": {
    "colab_type": "text",
    "id": "KQvXzI0sU4Xa"
   },
   "source": [
    "Each row in the data represents a separate property. Our goal is to use the data from `mieszkania.csv` to create a model that can predict a property's price (i.e. `cena`) given its features (i.e. `m2,dzielnica,ilosc_sypialni,ilosc_lazienek,rok_budowy,parking_podziemny`). \n",
    "\n",
    "From now on, we should interfere only with `mieszkania.csv` (dubbed the training dataset) to make our decisions and create the model. The (only) purpose of `mieszkania_test.csv` is to test our model on **unseen** data.\n",
    "\n",
    "Our predictions should minimize the so-called mean squared logarithmic error:\n",
    "$$\n",
    "MSLE = \\frac{1}{n} \\sum_{i=1}^n (\\log(1+y_i) - \\log(1+p_i))^2,\n",
    "$$\n",
    "where $y_i$ is the ground truth, and $p_i$ is our prediction."
   ]
  },
  {
   "cell_type": "markdown",
   "metadata": {
    "colab_type": "text",
    "id": "MJrebVx3WR35"
   },
   "source": [
    "**Jedynka potrzebna, bo nie ma logarytmu od 0. Więc dodajemy jeden, żeby**"
   ]
  },
  {
   "cell_type": "markdown",
   "metadata": {
    "colab_type": "text",
    "id": "iQ8GWpBdU4Xb"
   },
   "source": [
    "Let's start with implementing the loss function."
   ]
  },
  {
   "cell_type": "code",
   "execution_count": 25,
   "metadata": {},
   "outputs": [],
   "source": [
    "import pandas as pd\n",
    "import numpy as np\n",
    "Data = pd.read_csv('mieszkania.csv')"
   ]
  },
  {
   "cell_type": "code",
   "execution_count": 7,
   "metadata": {},
   "outputs": [
    {
     "data": {
      "text/html": [
       "<div>\n",
       "<style scoped>\n",
       "    .dataframe tbody tr th:only-of-type {\n",
       "        vertical-align: middle;\n",
       "    }\n",
       "\n",
       "    .dataframe tbody tr th {\n",
       "        vertical-align: top;\n",
       "    }\n",
       "\n",
       "    .dataframe thead th {\n",
       "        text-align: right;\n",
       "    }\n",
       "</style>\n",
       "<table border=\"1\" class=\"dataframe\">\n",
       "  <thead>\n",
       "    <tr style=\"text-align: right;\">\n",
       "      <th></th>\n",
       "      <th>m2</th>\n",
       "      <th>dzielnica</th>\n",
       "      <th>ilość_sypialni</th>\n",
       "      <th>ilość_łazienek</th>\n",
       "      <th>rok_budowy</th>\n",
       "      <th>parking_podziemny</th>\n",
       "      <th>cena</th>\n",
       "    </tr>\n",
       "  </thead>\n",
       "  <tbody>\n",
       "    <tr>\n",
       "      <th>0</th>\n",
       "      <td>104</td>\n",
       "      <td>mokotowo</td>\n",
       "      <td>2</td>\n",
       "      <td>2</td>\n",
       "      <td>1940</td>\n",
       "      <td>1</td>\n",
       "      <td>780094</td>\n",
       "    </tr>\n",
       "    <tr>\n",
       "      <th>1</th>\n",
       "      <td>43</td>\n",
       "      <td>ochotowo</td>\n",
       "      <td>1</td>\n",
       "      <td>1</td>\n",
       "      <td>1970</td>\n",
       "      <td>1</td>\n",
       "      <td>346912</td>\n",
       "    </tr>\n",
       "    <tr>\n",
       "      <th>2</th>\n",
       "      <td>128</td>\n",
       "      <td>grodziskowo</td>\n",
       "      <td>3</td>\n",
       "      <td>2</td>\n",
       "      <td>1916</td>\n",
       "      <td>1</td>\n",
       "      <td>523466</td>\n",
       "    </tr>\n",
       "    <tr>\n",
       "      <th>3</th>\n",
       "      <td>112</td>\n",
       "      <td>mokotowo</td>\n",
       "      <td>3</td>\n",
       "      <td>2</td>\n",
       "      <td>1920</td>\n",
       "      <td>1</td>\n",
       "      <td>830965</td>\n",
       "    </tr>\n",
       "    <tr>\n",
       "      <th>4</th>\n",
       "      <td>149</td>\n",
       "      <td>mokotowo</td>\n",
       "      <td>3</td>\n",
       "      <td>3</td>\n",
       "      <td>1977</td>\n",
       "      <td>0</td>\n",
       "      <td>1090479</td>\n",
       "    </tr>\n",
       "  </tbody>\n",
       "</table>\n",
       "</div>"
      ],
      "text/plain": [
       "    m2    dzielnica  ilość_sypialni  ilość_łazienek  rok_budowy  \\\n",
       "0  104     mokotowo               2               2        1940   \n",
       "1   43     ochotowo               1               1        1970   \n",
       "2  128  grodziskowo               3               2        1916   \n",
       "3  112     mokotowo               3               2        1920   \n",
       "4  149     mokotowo               3               3        1977   \n",
       "\n",
       "   parking_podziemny     cena  \n",
       "0                  1   780094  \n",
       "1                  1   346912  \n",
       "2                  1   523466  \n",
       "3                  1   830965  \n",
       "4                  0  1090479  "
      ]
     },
     "execution_count": 7,
     "metadata": {},
     "output_type": "execute_result"
    }
   ],
   "source": [
    "Data.head()"
   ]
  },
  {
   "cell_type": "code",
   "execution_count": 26,
   "metadata": {
    "colab": {},
    "colab_type": "code",
    "id": "FrlzmHbdVc9j"
   },
   "outputs": [
    {
     "data": {
      "text/plain": [
       "[<matplotlib.lines.Line2D at 0x7fd0866f2c88>]"
      ]
     },
     "execution_count": 26,
     "metadata": {},
     "output_type": "execute_result"
    },
    {
     "data": {
      "image/png": "[encoded data removed]",
      "text/plain": [
       "<Figure size 432x288 with 1 Axes>"
      ]
     },
     "metadata": {
      "needs_background": "light"
     },
     "output_type": "display_data"
    }
   ],
   "source": [
    "#TODO Wykres cen oraz m2 dla mieszkań\n",
    "import matplotlib.pyplot as plt\n",
    "\n",
    "plt.plot(Data['m2'],Data['cena'],'b+')\n",
    "\n"
   ]
  },
  {
   "cell_type": "code",
   "execution_count": 20,
   "metadata": {
    "colab": {},
    "colab_type": "code",
    "id": "4-NmvpmBWnku"
   },
   "outputs": [],
   "source": [
    "from math import log"
   ]
  },
  {
   "cell_type": "code",
   "execution_count": 42,
   "metadata": {
    "colab": {},
    "colab_type": "code",
    "id": "h7F2bwW_U4Xc"
   },
   "outputs": [],
   "source": [
    "from statistics import mean\n",
    "\n",
    "def msle(ys, ps):\n",
    "    assert len(ys) == len(ps)\n",
    "    return np.mean([(log(1+y) - log(1+p)) ** 2 for y,p in list(zip(ys,ps))])"
   ]
  },
  {
   "cell_type": "markdown",
   "metadata": {
    "colab_type": "text",
    "id": "BzEgBv5gU4Xf"
   },
   "source": [
    "The simplest model is predicting the same constant for each instance. Test your implementation of msle against outputing the mean price."
   ]
  },
  {
   "cell_type": "code",
   "execution_count": 57,
   "metadata": {
    "colab": {},
    "colab_type": "code",
    "id": "_Co-Rjz6U4Xh"
   },
   "outputs": [
    {
     "name": "stdout",
     "output_type": "stream",
     "text": [
      "The MSLE with constant prediction(MEAN) is 0.3915\n"
     ]
    }
   ],
   "source": [
    "###################################################\n",
    "# TODO: Compute msle for outputing the mean price #\n",
    "###################################################\n",
    "mean = np.mean(Data['cena'])\n",
    "print(\"The MSLE with constant prediction(MEAN) is {:3.4f}\".format(msle(list(Data['cena']),[mean for _ in range(len(Data['cena']) )])))"
   ]
  },
  {
   "cell_type": "markdown",
   "metadata": {
    "colab_type": "text",
    "id": "UmeN3Z2OU4Xk"
   },
   "source": [
    "Recall that outputing the mean minimzes $MSE$. However, we're now dealing with $MSLE$.\n",
    "\n",
    "Think of a constant that should result in the lowest $MSLE$."
   ]
  },
  {
   "cell_type": "code",
   "execution_count": 58,
   "metadata": {
    "colab": {},
    "colab_type": "code",
    "id": "Ad1BHZtuU4Xl"
   },
   "outputs": [
    {
     "name": "stdout",
     "output_type": "stream",
     "text": [
      "The MSLE with another constant prediction(MEDIAN) is 0.3679\n"
     ]
    }
   ],
   "source": [
    "median = np.median(Data['cena'])\n",
    "print(\"The MSLE with another constant prediction(MEDIAN) is {:3.4f}\".format(msle(list(Data['cena']),[median for _ in range(len(Data['cena']) )])))"
   ]
  },
  {
   "cell_type": "markdown",
   "metadata": {
    "colab_type": "text",
    "id": "2K1m4qziU4Xo"
   },
   "source": [
    "Now, let's implement a standard linear regression model. "
   ]
  },
  {
   "cell_type": "code",
   "execution_count": 69,
   "metadata": {},
   "outputs": [
    {
     "ename": "TypeError",
     "evalue": "'NoneType' object is not iterable",
     "output_type": "error",
     "traceback": [
      "\u001b[0;31m---------------------------------------------------------------------------\u001b[0m",
      "\u001b[0;31mTypeError\u001b[0m                                 Traceback (most recent call last)",
      "\u001b[0;32m<ipython-input-69-c57a597b74a8>\u001b[0m in \u001b[0;36m<module>\u001b[0;34m\u001b[0m\n\u001b[1;32m      1\u001b[0m \u001b[0mr\u001b[0m \u001b[0;34m=\u001b[0m \u001b[0;34m[\u001b[0m\u001b[0;34m'bacon'\u001b[0m\u001b[0;34m,\u001b[0m\u001b[0;34m'eggs'\u001b[0m\u001b[0;34m,\u001b[0m\u001b[0;34m'proso'\u001b[0m\u001b[0;34m]\u001b[0m\u001b[0;34m\u001b[0m\u001b[0;34m\u001b[0m\u001b[0m\n\u001b[0;32m----> 2\u001b[0;31m \u001b[0mprint\u001b[0m\u001b[0;34m(\u001b[0m\u001b[0mlist\u001b[0m\u001b[0;34m(\u001b[0m\u001b[0mr\u001b[0m\u001b[0;34m.\u001b[0m\u001b[0mremove\u001b[0m\u001b[0;34m(\u001b[0m\u001b[0;34m'proso'\u001b[0m\u001b[0;34m)\u001b[0m\u001b[0;34m)\u001b[0m\u001b[0;34m)\u001b[0m\u001b[0;34m\u001b[0m\u001b[0;34m\u001b[0m\u001b[0m\n\u001b[0m",
      "\u001b[0;31mTypeError\u001b[0m: 'NoneType' object is not iterable"
     ]
    }
   ],
   "source": []
  },
  {
   "cell_type": "code",
   "execution_count": null,
   "metadata": {
    "colab": {},
    "colab_type": "code",
    "id": "jdKqrph5U4Xp"
   },
   "outputs": [],
   "source": [
    "##########################################################\n",
    "# TODO: Implement linear regression and compute its msle #\n",
    "##########################################################\n",
    "f = lambda x :\n",
    "\n",
    "n_epochs = 100\n",
    "\n"
   ]
  },
  {
   "cell_type": "markdown",
   "metadata": {
    "colab_type": "text",
    "id": "PCr6x124U4Xt"
   },
   "source": [
    "Note that the loss function that the algorithms optimizes (i.e $MSE$) differs from $MSLE$. We've already seen that this may result in a suboptimal solution.\n",
    "\n",
    "How can you change the setting so that we optimze $MSLE$ instead?"
   ]
  },
  {
   "cell_type": "markdown",
   "metadata": {
    "colab_type": "text",
    "id": "eTpTvoIBU4Xv"
   },
   "source": [
    "Hint: \n",
    "<sub><sup><sub><sup><sub><sup>\n",
    "Be lazy. We don't want to change the algorithm.\n",
    "</sup></sub></sup></sub></sup></sub>"
   ]
  },
  {
   "cell_type": "code",
   "execution_count": null,
   "metadata": {
    "colab": {},
    "colab_type": "code",
    "id": "2ouKoM15U4Xx"
   },
   "outputs": [],
   "source": [
    "#############################################\n",
    "# TODO: Optimize msle and compare the error #\n",
    "#############################################"
   ]
  },
  {
   "cell_type": "markdown",
   "metadata": {
    "colab_type": "text",
    "id": "pD-08rHOU4X1"
   },
   "source": [
    "Without any feature engineering our model approximates the price as a linear combination of original features:\n",
    "$$\n",
    "\\text{price} \\approx w_1 \\cdot \\text{area} + w_2 \\cdot \\text{district} + \\dots.\n",
    "$$\n",
    "Let's now introduce some interactions between the variables. For instance, let's consider a following formula:\n",
    "$$\n",
    "\\text{price} \\approx w_1 \\cdot \\text{area} \\cdot \\text{avg. price in the district per sq. meter} + w_2 \\cdot \\dots + \\dots.\n",
    "$$\n",
    "Here, we model the price with far greater granularity, and we may expect to see more acurate results."
   ]
  },
  {
   "cell_type": "markdown",
   "metadata": {
    "colab_type": "text",
    "id": "d_JAJxBgU4X3"
   },
   "source": [
    "Add some feature engineering to your model. Be sure to play with the data and not with the algorithm's code. \n",
    "\n",
    "Think how to make sure that your model is capable of capturing the $w_1 \\cdot \\text{area} \\cdot \\text{avg. price...}$ part, without actually computing the averages."
   ]
  },
  {
   "cell_type": "markdown",
   "metadata": {
    "colab_type": "text",
    "id": "toU8BAacU4X4"
   },
   "source": [
    "Hint: \n",
    "<sub><sup><sub><sup><sub><sup>\n",
    "Is having a binary encoding for each district and multiplying it by area enough?\n",
    "</sup></sub></sup></sub></sup></sub>"
   ]
  },
  {
   "cell_type": "markdown",
   "metadata": {
    "colab_type": "text",
    "id": "CI72BqFLU4X5"
   },
   "source": [
    "Hint 2: \n",
    "<sub><sup><sub><sup><sub><sup>\n",
    "Why not multiply everything together? I.e. (A,B,C) -> (AB,AC,BC).\n",
    "</sup></sub></sup></sub></sup></sub>"
   ]
  },
  {
   "cell_type": "code",
   "execution_count": null,
   "metadata": {
    "colab": {},
    "colab_type": "code",
    "id": "NO3e8ym2U4X6"
   },
   "outputs": [],
   "source": [
    "###############################################\n",
    "# TODO: Implement the feature engieering part #\n",
    "###############################################"
   ]
  },
  {
   "cell_type": "code",
   "execution_count": null,
   "metadata": {
    "colab": {},
    "colab_type": "code",
    "id": "FRqJ5JjAU4YA"
   },
   "outputs": [],
   "source": [
    "##############################################################\n",
    "# TODO: Test your solution on the training and test datasets #\n",
    "##############################################################"
   ]
  }
 ],
 "metadata": {
  "colab": {
   "name": "Exercise 2.ipynb",
   "provenance": [],
   "version": "0.3.2"
  },
  "kernelspec": {
   "display_name": "Python 3",
   "language": "python",
   "name": "python3"
  },
  "language_info": {
   "codemirror_mode": {
    "name": "ipython",
    "version": 3
   },
   "file_extension": ".py",
   "mimetype": "text/x-python",
   "name": "python",
   "nbconvert_exporter": "python",
   "pygments_lexer": "ipython3",
   "version": "3.7.1"
  }
 },
 "nbformat": 4,
 "nbformat_minor": 2
}
