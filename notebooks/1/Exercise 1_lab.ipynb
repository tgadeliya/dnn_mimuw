{
 "cells": [
  {
   "cell_type": "markdown",
   "metadata": {
    "colab_type": "text",
    "id": "9jok-dT8LWOr"
   },
   "source": [
    "# Simple linear regression \n",
    "\n",
    "In this exercise you will train a linear regression model via gradient descent in the simplest scenario, i.e. recreating an affine function.\n",
    "\n",
    "The setup is as follows:\n",
    "* we are given a set of pairs $(x, y)$, where $x$ represents the feature, and $y$ is the target,\n",
    "* our hypothesis is $h(x) = ax + b$,\n",
    "* we will use the dataset consisting of set of pairs to figure out the right values for $a$ and $b$,\n",
    "* to do so we will optimize the loss function: $J(a,b) = \\frac{1}{n}\\sum_{i=1}^n (y_i - h(x_i))^2$,\n",
    "* with the loss function in hand we can improve our guesses iteratively:\n",
    "    * $a^{t+1} = a^t - \\text{step_size} \\cdot \\frac{\\partial J(a,b)}{\\partial a}$,\n",
    "    * $b^{t+1} = b^t - \\text{step_size} \\cdot \\frac{\\partial J(a,b)}{\\partial b}$,\n",
    "* we can end the process after some predefined number of epochs (or when the changes are no longer meaningful).\n",
    "\n",
    "Let's start with creating the dataset."
   ]
  },
  {
   "cell_type": "code",
   "execution_count": 1,
   "metadata": {
    "colab": {},
    "colab_type": "code",
    "id": "Sz19JysKLWOs"
   },
   "outputs": [],
   "source": [
    "%matplotlib inline\n",
    "\n",
    "import random\n",
    "\n",
    "_a = 0.3\n",
    "_b = 0.5\n",
    "\n",
    "f = lambda x: _a * x + _b # ground truth\n",
    "g = lambda x: f(x) + random.gauss(0, 0.02) # a noisy version of f"
   ]
  },
  {
   "cell_type": "code",
   "execution_count": 8,
   "metadata": {
    "colab": {},
    "colab_type": "code",
    "id": "nfPdE3cYLWOx"
   },
   "outputs": [],
   "source": [
    "n = 50 # number of examples\n",
    "\n",
    "xs = [random.random() for _ in range(n)] # features\n",
    "#На каждое значение xs применяет нашу настоящую функцию f и с шумом функцию g На выходе список предсказаний\n",
    "ys = list(map(g, xs)) # targets\n",
    "ts = list(map(f, xs))# we don't get to see this"
   ]
  },
  {
   "cell_type": "markdown",
   "metadata": {
    "colab_type": "text",
    "id": "jXDvhJjZLWO0"
   },
   "source": [
    "Our goal is to recreate $f$. However, as reality can be harsh (and usually is) we only get to observe $g$. We observe it as a list of pairs $(x,y) \\in \\text{zip}(xs, ys)$.\n",
    "\n",
    "Let's plot the data."
   ]
  },
  {
   "cell_type": "code",
   "execution_count": 9,
   "metadata": {
    "colab": {
     "base_uri": "https://localhost:8080/",
     "height": 663
    },
    "colab_type": "code",
    "executionInfo": {
     "elapsed": 895,
     "status": "ok",
     "timestamp": 1551429880934,
     "user": {
      "displayName": "Timur Hadeliya",
      "photoUrl": "https://lh5.googleusercontent.com/-Nhb23zVZRNY/AAAAAAAAAAI/AAAAAAAAHpk/RJ3s-jxCCk0/s64/photo.jpg",
      "userId": "13979945916369297878"
     },
     "user_tz": -60
    },
    "id": "QdREIiBWLWO1",
    "outputId": "836b9787-b39d-4ac6-d630-a0079363a54f"
   },
   "outputs": [
    {
     "data": {
      "text/plain": [
       "<matplotlib.collections.PathCollection at 0x7f340ff3fc50>"
      ]
     },
     "execution_count": 9,
     "metadata": {},
     "output_type": "execute_result"
    },
    {
     "data": {
      "image/png": "[encoded data removed]",
      "text/plain": [
       "<Figure size 792x792 with 1 Axes>"
      ]
     },
     "metadata": {
      "needs_background": "light"
     },
     "output_type": "display_data"
    }
   ],
   "source": [
    "import matplotlib.pyplot as plt\n",
    "import seaborn as sns#Нету его\n",
    "\n",
    "fig = plt.figure(figsize=(11, 11))\n",
    "plt.scatter(xs, ys)"
   ]
  },
  {
   "cell_type": "code",
   "execution_count": 16,
   "metadata": {
    "colab": {},
    "colab_type": "code",
    "id": "W0fmN7MZLWO4"
   },
   "outputs": [],
   "source": [
    "from statistics import mean\n",
    "\n",
    "def l2_loss(ys, ts):\n",
    "    assert len(ys) == len(ts)\n",
    "    return mean([(a-b)**2 for a,b in zip(ys,ts)])"
   ]
  },
  {
   "cell_type": "markdown",
   "metadata": {
    "colab_type": "text",
    "id": "1PlAi1haLWO7"
   },
   "source": [
    "Please take a while to (roughly) guess the output before executing the cell below."
   ]
  },
  {
   "cell_type": "code",
   "execution_count": 18,
   "metadata": {
    "colab": {
     "base_uri": "https://localhost:8080/",
     "height": 34
    },
    "colab_type": "code",
    "executionInfo": {
     "elapsed": 678,
     "status": "ok",
     "timestamp": 1551429919294,
     "user": {
      "displayName": "Timur Hadeliya",
      "photoUrl": "https://lh5.googleusercontent.com/-Nhb23zVZRNY/AAAAAAAAAAI/AAAAAAAAHpk/RJ3s-jxCCk0/s64/photo.jpg",
      "userId": "13979945916369297878"
     },
     "user_tz": -60
    },
    "id": "ezjIx5gQLWO8",
    "outputId": "f348c033-ac37-4340-86d5-fa0400f3e968"
   },
   "outputs": [
    {
     "data": {
      "text/plain": [
       "0.00028587170914708333"
      ]
     },
     "execution_count": 18,
     "metadata": {},
     "output_type": "execute_result"
    }
   ],
   "source": [
    "l2_loss(ys, ts)"
   ]
  },
  {
   "cell_type": "markdown",
   "metadata": {
    "colab_type": "text",
    "id": "5j2gNe3NLWO_"
   },
   "source": [
    "Let's now implement the algorithm\n",
    "\n",
    "Hint: To make sure that you correctly compute the gradients, you can compute them numerically and compare the results. "
   ]
  },
  {
   "cell_type": "code",
   "execution_count": 20,
   "metadata": {
    "colab": {
     "base_uri": "https://localhost:8080/",
     "height": 697
    },
    "colab_type": "code",
    "executionInfo": {
     "elapsed": 677,
     "status": "ok",
     "timestamp": 1551429892170,
     "user": {
      "displayName": "Timur Hadeliya",
      "photoUrl": "https://lh5.googleusercontent.com/-Nhb23zVZRNY/AAAAAAAAAAI/AAAAAAAAHpk/RJ3s-jxCCk0/s64/photo.jpg",
      "userId": "13979945916369297878"
     },
     "user_tz": -60
    },
    "id": "aQns-qZlLWPA",
    "outputId": "5b09b17c-59a6-4771-8423-2e058a219bd6"
   },
   "outputs": [
    {
     "name": "stdout",
     "output_type": "stream",
     "text": [
      "Iter:   0 Loss: 0.46162357 a:  0.40835, b:  0.67517\n",
      "Iter:   1 Loss: 0.05666209 a:  0.26442, b:  0.43986\n",
      "Iter:   2 Loss: 0.00717324 a:  0.31362, b:  0.52280\n",
      "Iter:   3 Loss: 0.00112405 a:  0.29536, b:  0.49445\n",
      "Iter:   4 Loss: 0.00038343 a:  0.30073, b:  0.50498\n",
      "Iter:   5 Loss: 0.00029167 a:  0.29789, b:  0.50188\n",
      "Iter:   6 Loss: 0.00027932 a:  0.29797, b:  0.50351\n",
      "Iter:   7 Loss: 0.00027679 a:  0.29708, b:  0.50347\n",
      "Iter:   8 Loss: 0.00027555 a:  0.29657, b:  0.50398\n",
      "Iter:   9 Loss: 0.00027457 a:  0.29597, b:  0.50428\n",
      "Iter:  10 Loss: 0.00027370 a:  0.29543, b:  0.50462\n",
      "Iter:  11 Loss: 0.00027291 a:  0.29492, b:  0.50493\n",
      "Iter:  12 Loss: 0.00027220 a:  0.29443, b:  0.50523\n",
      "Iter:  13 Loss: 0.00027157 a:  0.29396, b:  0.50551\n",
      "Iter:  14 Loss: 0.00027099 a:  0.29352, b:  0.50578\n",
      "Iter:  15 Loss: 0.00027047 a:  0.29310, b:  0.50603\n",
      "Iter:  16 Loss: 0.00027000 a:  0.29270, b:  0.50628\n",
      "Iter:  17 Loss: 0.00026958 a:  0.29232, b:  0.50651\n",
      "Iter:  18 Loss: 0.00026919 a:  0.29197, b:  0.50672\n",
      "Iter:  19 Loss: 0.00026885 a:  0.29162, b:  0.50693\n",
      "Iter:  20 Loss: 0.00026854 a:  0.29130, b:  0.50713\n",
      "Iter:  21 Loss: 0.00026826 a:  0.29099, b:  0.50731\n",
      "Iter:  22 Loss: 0.00026801 a:  0.29070, b:  0.50749\n",
      "Iter:  23 Loss: 0.00026778 a:  0.29042, b:  0.50766\n",
      "Iter:  24 Loss: 0.00026757 a:  0.29016, b:  0.50782\n",
      "Iter:  25 Loss: 0.00026738 a:  0.28991, b:  0.50797\n",
      "Iter:  26 Loss: 0.00026722 a:  0.28967, b:  0.50812\n",
      "Iter:  27 Loss: 0.00026707 a:  0.28944, b:  0.50825\n",
      "Iter:  28 Loss: 0.00026693 a:  0.28923, b:  0.50838\n",
      "Iter:  29 Loss: 0.00026681 a:  0.28902, b:  0.50851\n",
      "Iter:  30 Loss: 0.00026669 a:  0.28883, b:  0.50863\n",
      "Iter:  31 Loss: 0.00026659 a:  0.28864, b:  0.50874\n",
      "Iter:  32 Loss: 0.00026650 a:  0.28847, b:  0.50884\n",
      "Iter:  33 Loss: 0.00026642 a:  0.28830, b:  0.50894\n",
      "Iter:  34 Loss: 0.00026635 a:  0.28815, b:  0.50904\n",
      "Iter:  35 Loss: 0.00026628 a:  0.28800, b:  0.50913\n",
      "Iter:  36 Loss: 0.00026622 a:  0.28785, b:  0.50922\n",
      "Iter:  37 Loss: 0.00026617 a:  0.28772, b:  0.50930\n",
      "Iter:  38 Loss: 0.00026612 a:  0.28759, b:  0.50938\n",
      "Iter:  39 Loss: 0.00026608 a:  0.28747, b:  0.50945\n"
     ]
    }
   ],
   "source": [
    "a = 0. # our initial guess for _a\n",
    "b = 0. # our initial guess for _b\n",
    "lr = 0.5 # step size\n",
    "\n",
    "n_epochs = 40 # number of passes over the training data\n",
    "\n",
    "def predict(a, b, xs=xs):\n",
    "    return [a * x + b for x in xs]\n",
    "\n",
    "def evaluate(a, b, xs=xs, ys=ys):\n",
    "    return l2_loss(ys, predict(a, b, xs))\n",
    "\n",
    "losses = [evaluate(a, b)]\n",
    "\n",
    "for i in range(n_epochs):\n",
    "    \n",
    "    loss = evaluate(a,b)\n",
    "    \n",
    "    d_a = (evaluate(a-0.001,b) - evaluate(a+0.001,b)) / 0.002\n",
    "    d_b = (evaluate(a,b-0.001) - evaluate(a,b+0.001))/ 0.002\n",
    "    \n",
    "    a -= -d_a*lr\n",
    "    b -= -d_b*lr\n",
    "    \n",
    "    losses.append(loss)\n",
    "    \n",
    "    print('Iter: {:>3} Loss: {:8.8f} a: {:8.5f}, b: {:8.5f}'.format(i, loss, a, b))"
   ]
  },
  {
   "cell_type": "code",
   "execution_count": 21,
   "metadata": {
    "colab": {
     "base_uri": "https://localhost:8080/",
     "height": 293
    },
    "colab_type": "code",
    "executionInfo": {
     "elapsed": 1028,
     "status": "ok",
     "timestamp": 1551429897504,
     "user": {
      "displayName": "Timur Hadeliya",
      "photoUrl": "https://lh5.googleusercontent.com/-Nhb23zVZRNY/AAAAAAAAAAI/AAAAAAAAHpk/RJ3s-jxCCk0/s64/photo.jpg",
      "userId": "13979945916369297878"
     },
     "user_tz": -60
    },
    "id": "M2gHs0FTLWPD",
    "outputId": "f800896b-1e23-46df-994d-23b9b1db7fd0"
   },
   "outputs": [
    {
     "data": {
      "text/plain": [
       "[<matplotlib.lines.Line2D at 0x7f340fdd2f60>]"
      ]
     },
     "execution_count": 21,
     "metadata": {},
     "output_type": "execute_result"
    },
    {
     "data": {
      "image/png": "[encoded data removed]",
      "text/plain": [
       "<Figure size 432x288 with 1 Axes>"
      ]
     },
     "metadata": {
      "needs_background": "light"
     },
     "output_type": "display_data"
    }
   ],
   "source": [
    "plt.plot(losses)"
   ]
  },
  {
   "cell_type": "markdown",
   "metadata": {
    "colab_type": "text",
    "id": "XTdujLWoLWPG"
   },
   "source": [
    "Let's now visually asses how we do on training data"
   ]
  },
  {
   "cell_type": "code",
   "execution_count": 22,
   "metadata": {
    "colab": {
     "base_uri": "https://localhost:8080/",
     "height": 657
    },
    "colab_type": "code",
    "executionInfo": {
     "elapsed": 1109,
     "status": "ok",
     "timestamp": 1551427912163,
     "user": {
      "displayName": "Timur Hadeliya",
      "photoUrl": "https://lh5.googleusercontent.com/-Nhb23zVZRNY/AAAAAAAAAAI/AAAAAAAAHpk/RJ3s-jxCCk0/s64/photo.jpg",
      "userId": "13979945916369297878"
     },
     "user_tz": -60
    },
    "id": "5-G6Op7yLWPI",
    "outputId": "8ca92809-9ea9-4eb9-f3f0-cbee70c22f23"
   },
   "outputs": [
    {
     "data": {
      "image/png": "[encoded data removed]",
      "text/plain": [
       "<Figure size 792x792 with 1 Axes>"
      ]
     },
     "metadata": {
      "needs_background": "light"
     },
     "output_type": "display_data"
    }
   ],
   "source": [
    "fig = plt.figure(figsize=(11, 11))\n",
    "plt.scatter(xs, ys)\n",
    "plt.plot(xs, predict(a, b), c='g')\n",
    "plt.show()"
   ]
  },
  {
   "cell_type": "code",
   "execution_count": 25,
   "metadata": {
    "colab": {
     "base_uri": "https://localhost:8080/",
     "height": 657
    },
    "colab_type": "code",
    "executionInfo": {
     "elapsed": 876,
     "status": "ok",
     "timestamp": 1551427908588,
     "user": {
      "displayName": "Timur Hadeliya",
      "photoUrl": "https://lh5.googleusercontent.com/-Nhb23zVZRNY/AAAAAAAAAAI/AAAAAAAAHpk/RJ3s-jxCCk0/s64/photo.jpg",
      "userId": "13979945916369297878"
     },
     "user_tz": -60
    },
    "id": "kJuOpbMRLWPO",
    "outputId": "26433a2d-fdff-43a4-cbef-4c940fe9475d"
   },
   "outputs": [
    {
     "data": {
      "image/png": "[encoded data removed]",
      "text/plain": [
       "<Figure size 792x792 with 1 Axes>"
      ]
     },
     "metadata": {
      "needs_background": "light"
     },
     "output_type": "display_data"
    }
   ],
   "source": [
    "fig = plt.figure(figsize=(11, 11))\n",
    "plt.scatter(xs, ys)\n",
    "plt.plot(xs, predict(a, b), c='g')\n",
    "\n",
    "################################################################\n",
    "# TODO: Add the (unobserved) ground truth, i.e. ts to the plot #\n",
    "################################################################\n",
    "plt.plot(xs, ts ,c = 'r')\n",
    "plt.show()"
   ]
  },
  {
   "cell_type": "markdown",
   "metadata": {
    "colab_type": "text",
    "id": "nZmLAyNJLWPQ"
   },
   "source": [
    "Let's check our implementation vs. the one in sklearn"
   ]
  },
  {
   "cell_type": "code",
   "execution_count": 23,
   "metadata": {
    "colab": {
     "base_uri": "https://localhost:8080/",
     "height": 34
    },
    "colab_type": "code",
    "executionInfo": {
     "elapsed": 1078,
     "status": "ok",
     "timestamp": 1551427922679,
     "user": {
      "displayName": "Timur Hadeliya",
      "photoUrl": "https://lh5.googleusercontent.com/-Nhb23zVZRNY/AAAAAAAAAAI/AAAAAAAAHpk/RJ3s-jxCCk0/s64/photo.jpg",
      "userId": "13979945916369297878"
     },
     "user_tz": -60
    },
    "id": "TdShYXPkLWPR",
    "outputId": "0987f3b6-8d5c-4d1d-ff20-18c6697906b1"
   },
   "outputs": [
    {
     "name": "stdout",
     "output_type": "stream",
     "text": [
      "Loss: 0.00026567 a:  0.28516, b:  0.51085\n"
     ]
    }
   ],
   "source": [
    "from sklearn.linear_model import LinearRegression\n",
    "import numpy as np\n",
    "\n",
    "X = np.array(xs).reshape((len(xs), 1))\n",
    "regr = LinearRegression()\n",
    "regr.fit(X, ys) # traini\n",
    "\n",
    "sk_a = float(regr.coef_)\n",
    "sk_b = regr.intercept_\n",
    "sk_loss = l2_loss(ys, regr.predict(X))\n",
    "\n",
    "print ('Loss: {:8.8f} a: {:8.5f}, b: {:8.5f}'.format(\n",
    "    sk_loss, sk_a, sk_b))"
   ]
  }
 ],
 "metadata": {
  "colab": {
   "name": "Exercise 1_lab.ipynb",
   "provenance": [],
   "version": "0.3.2"
  },
  "kernelspec": {
   "display_name": "Python 3",
   "language": "python",
   "name": "python3"
  },
  "language_info": {
   "codemirror_mode": {
    "name": "ipython",
    "version": 3
   },
   "file_extension": ".py",
   "mimetype": "text/x-python",
   "name": "python",
   "nbconvert_exporter": "python",
   "pygments_lexer": "ipython3",
   "version": "3.7.1"
  }
 },
 "nbformat": 4,
 "nbformat_minor": 2
}
